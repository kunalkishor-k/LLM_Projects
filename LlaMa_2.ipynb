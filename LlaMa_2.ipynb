{
  "nbformat": 4,
  "nbformat_minor": 0,
  "metadata": {
    "colab": {
      "provenance": [],
      "gpuType": "T4",
      "authorship_tag": "ABX9TyN40D8plEgG5guqf5+nHj+a",
      "include_colab_link": true
    },
    "kernelspec": {
      "name": "python3",
      "display_name": "Python 3"
    },
    "language_info": {
      "name": "python"
    },
    "accelerator": "GPU",
    "widgets": {
      "application/vnd.jupyter.widget-state+json": {
        "5bf8471dba784d408b0037bc839b8b89": {
          "model_module": "@jupyter-widgets/controls",
          "model_name": "HBoxModel",
          "model_module_version": "1.5.0",
          "state": {
            "_dom_classes": [],
            "_model_module": "@jupyter-widgets/controls",
            "_model_module_version": "1.5.0",
            "_model_name": "HBoxModel",
            "_view_count": null,
            "_view_module": "@jupyter-widgets/controls",
            "_view_module_version": "1.5.0",
            "_view_name": "HBoxView",
            "box_style": "",
            "children": [
              "IPY_MODEL_f9ba1465ecdb4ec48f8b08e4b7741687",
              "IPY_MODEL_04701d39a545481d92ebb87660579cb7",
              "IPY_MODEL_1b0e98aa35e4439991dbef5a26ae76d6"
            ],
            "layout": "IPY_MODEL_30de8c3f414f47e5ac5f50ab09076d71"
          }
        },
        "f9ba1465ecdb4ec48f8b08e4b7741687": {
          "model_module": "@jupyter-widgets/controls",
          "model_name": "HTMLModel",
          "model_module_version": "1.5.0",
          "state": {
            "_dom_classes": [],
            "_model_module": "@jupyter-widgets/controls",
            "_model_module_version": "1.5.0",
            "_model_name": "HTMLModel",
            "_view_count": null,
            "_view_module": "@jupyter-widgets/controls",
            "_view_module_version": "1.5.0",
            "_view_name": "HTMLView",
            "description": "",
            "description_tooltip": null,
            "layout": "IPY_MODEL_d56929c9741f4ddb9b305183e7c6c29d",
            "placeholder": "​",
            "style": "IPY_MODEL_1c9fe44f93c948518cced2b7f20d7ccc",
            "value": "Downloading data: 100%"
          }
        },
        "04701d39a545481d92ebb87660579cb7": {
          "model_module": "@jupyter-widgets/controls",
          "model_name": "FloatProgressModel",
          "model_module_version": "1.5.0",
          "state": {
            "_dom_classes": [],
            "_model_module": "@jupyter-widgets/controls",
            "_model_module_version": "1.5.0",
            "_model_name": "FloatProgressModel",
            "_view_count": null,
            "_view_module": "@jupyter-widgets/controls",
            "_view_module_version": "1.5.0",
            "_view_name": "ProgressView",
            "bar_style": "success",
            "description": "",
            "description_tooltip": null,
            "layout": "IPY_MODEL_9bf79bfdc7fc4fb992f280a7aa6deb14",
            "max": 14417793,
            "min": 0,
            "orientation": "horizontal",
            "style": "IPY_MODEL_39f09ddac590426bbdcff29a84a3f975",
            "value": 14417793
          }
        },
        "1b0e98aa35e4439991dbef5a26ae76d6": {
          "model_module": "@jupyter-widgets/controls",
          "model_name": "HTMLModel",
          "model_module_version": "1.5.0",
          "state": {
            "_dom_classes": [],
            "_model_module": "@jupyter-widgets/controls",
            "_model_module_version": "1.5.0",
            "_model_name": "HTMLModel",
            "_view_count": null,
            "_view_module": "@jupyter-widgets/controls",
            "_view_module_version": "1.5.0",
            "_view_name": "HTMLView",
            "description": "",
            "description_tooltip": null,
            "layout": "IPY_MODEL_14faccc47e044e69b051df167ddc56f0",
            "placeholder": "​",
            "style": "IPY_MODEL_10908aaae9894685ad4b7129e5acbb01",
            "value": " 14.4M/14.4M [00:00&lt;00:00, 41.5MB/s]"
          }
        },
        "30de8c3f414f47e5ac5f50ab09076d71": {
          "model_module": "@jupyter-widgets/base",
          "model_name": "LayoutModel",
          "model_module_version": "1.2.0",
          "state": {
            "_model_module": "@jupyter-widgets/base",
            "_model_module_version": "1.2.0",
            "_model_name": "LayoutModel",
            "_view_count": null,
            "_view_module": "@jupyter-widgets/base",
            "_view_module_version": "1.2.0",
            "_view_name": "LayoutView",
            "align_content": null,
            "align_items": null,
            "align_self": null,
            "border": null,
            "bottom": null,
            "display": null,
            "flex": null,
            "flex_flow": null,
            "grid_area": null,
            "grid_auto_columns": null,
            "grid_auto_flow": null,
            "grid_auto_rows": null,
            "grid_column": null,
            "grid_gap": null,
            "grid_row": null,
            "grid_template_areas": null,
            "grid_template_columns": null,
            "grid_template_rows": null,
            "height": null,
            "justify_content": null,
            "justify_items": null,
            "left": null,
            "margin": null,
            "max_height": null,
            "max_width": null,
            "min_height": null,
            "min_width": null,
            "object_fit": null,
            "object_position": null,
            "order": null,
            "overflow": null,
            "overflow_x": null,
            "overflow_y": null,
            "padding": null,
            "right": null,
            "top": null,
            "visibility": null,
            "width": null
          }
        },
        "d56929c9741f4ddb9b305183e7c6c29d": {
          "model_module": "@jupyter-widgets/base",
          "model_name": "LayoutModel",
          "model_module_version": "1.2.0",
          "state": {
            "_model_module": "@jupyter-widgets/base",
            "_model_module_version": "1.2.0",
            "_model_name": "LayoutModel",
            "_view_count": null,
            "_view_module": "@jupyter-widgets/base",
            "_view_module_version": "1.2.0",
            "_view_name": "LayoutView",
            "align_content": null,
            "align_items": null,
            "align_self": null,
            "border": null,
            "bottom": null,
            "display": null,
            "flex": null,
            "flex_flow": null,
            "grid_area": null,
            "grid_auto_columns": null,
            "grid_auto_flow": null,
            "grid_auto_rows": null,
            "grid_column": null,
            "grid_gap": null,
            "grid_row": null,
            "grid_template_areas": null,
            "grid_template_columns": null,
            "grid_template_rows": null,
            "height": null,
            "justify_content": null,
            "justify_items": null,
            "left": null,
            "margin": null,
            "max_height": null,
            "max_width": null,
            "min_height": null,
            "min_width": null,
            "object_fit": null,
            "object_position": null,
            "order": null,
            "overflow": null,
            "overflow_x": null,
            "overflow_y": null,
            "padding": null,
            "right": null,
            "top": null,
            "visibility": null,
            "width": null
          }
        },
        "1c9fe44f93c948518cced2b7f20d7ccc": {
          "model_module": "@jupyter-widgets/controls",
          "model_name": "DescriptionStyleModel",
          "model_module_version": "1.5.0",
          "state": {
            "_model_module": "@jupyter-widgets/controls",
            "_model_module_version": "1.5.0",
            "_model_name": "DescriptionStyleModel",
            "_view_count": null,
            "_view_module": "@jupyter-widgets/base",
            "_view_module_version": "1.2.0",
            "_view_name": "StyleView",
            "description_width": ""
          }
        },
        "9bf79bfdc7fc4fb992f280a7aa6deb14": {
          "model_module": "@jupyter-widgets/base",
          "model_name": "LayoutModel",
          "model_module_version": "1.2.0",
          "state": {
            "_model_module": "@jupyter-widgets/base",
            "_model_module_version": "1.2.0",
            "_model_name": "LayoutModel",
            "_view_count": null,
            "_view_module": "@jupyter-widgets/base",
            "_view_module_version": "1.2.0",
            "_view_name": "LayoutView",
            "align_content": null,
            "align_items": null,
            "align_self": null,
            "border": null,
            "bottom": null,
            "display": null,
            "flex": null,
            "flex_flow": null,
            "grid_area": null,
            "grid_auto_columns": null,
            "grid_auto_flow": null,
            "grid_auto_rows": null,
            "grid_column": null,
            "grid_gap": null,
            "grid_row": null,
            "grid_template_areas": null,
            "grid_template_columns": null,
            "grid_template_rows": null,
            "height": null,
            "justify_content": null,
            "justify_items": null,
            "left": null,
            "margin": null,
            "max_height": null,
            "max_width": null,
            "min_height": null,
            "min_width": null,
            "object_fit": null,
            "object_position": null,
            "order": null,
            "overflow": null,
            "overflow_x": null,
            "overflow_y": null,
            "padding": null,
            "right": null,
            "top": null,
            "visibility": null,
            "width": null
          }
        },
        "39f09ddac590426bbdcff29a84a3f975": {
          "model_module": "@jupyter-widgets/controls",
          "model_name": "ProgressStyleModel",
          "model_module_version": "1.5.0",
          "state": {
            "_model_module": "@jupyter-widgets/controls",
            "_model_module_version": "1.5.0",
            "_model_name": "ProgressStyleModel",
            "_view_count": null,
            "_view_module": "@jupyter-widgets/base",
            "_view_module_version": "1.2.0",
            "_view_name": "StyleView",
            "bar_color": null,
            "description_width": ""
          }
        },
        "14faccc47e044e69b051df167ddc56f0": {
          "model_module": "@jupyter-widgets/base",
          "model_name": "LayoutModel",
          "model_module_version": "1.2.0",
          "state": {
            "_model_module": "@jupyter-widgets/base",
            "_model_module_version": "1.2.0",
            "_model_name": "LayoutModel",
            "_view_count": null,
            "_view_module": "@jupyter-widgets/base",
            "_view_module_version": "1.2.0",
            "_view_name": "LayoutView",
            "align_content": null,
            "align_items": null,
            "align_self": null,
            "border": null,
            "bottom": null,
            "display": null,
            "flex": null,
            "flex_flow": null,
            "grid_area": null,
            "grid_auto_columns": null,
            "grid_auto_flow": null,
            "grid_auto_rows": null,
            "grid_column": null,
            "grid_gap": null,
            "grid_row": null,
            "grid_template_areas": null,
            "grid_template_columns": null,
            "grid_template_rows": null,
            "height": null,
            "justify_content": null,
            "justify_items": null,
            "left": null,
            "margin": null,
            "max_height": null,
            "max_width": null,
            "min_height": null,
            "min_width": null,
            "object_fit": null,
            "object_position": null,
            "order": null,
            "overflow": null,
            "overflow_x": null,
            "overflow_y": null,
            "padding": null,
            "right": null,
            "top": null,
            "visibility": null,
            "width": null
          }
        },
        "10908aaae9894685ad4b7129e5acbb01": {
          "model_module": "@jupyter-widgets/controls",
          "model_name": "DescriptionStyleModel",
          "model_module_version": "1.5.0",
          "state": {
            "_model_module": "@jupyter-widgets/controls",
            "_model_module_version": "1.5.0",
            "_model_name": "DescriptionStyleModel",
            "_view_count": null,
            "_view_module": "@jupyter-widgets/base",
            "_view_module_version": "1.2.0",
            "_view_name": "StyleView",
            "description_width": ""
          }
        },
        "8c0c57c9720b4caaa84076e3c5eb00aa": {
          "model_module": "@jupyter-widgets/controls",
          "model_name": "HBoxModel",
          "model_module_version": "1.5.0",
          "state": {
            "_dom_classes": [],
            "_model_module": "@jupyter-widgets/controls",
            "_model_module_version": "1.5.0",
            "_model_name": "HBoxModel",
            "_view_count": null,
            "_view_module": "@jupyter-widgets/controls",
            "_view_module_version": "1.5.0",
            "_view_name": "HBoxView",
            "box_style": "",
            "children": [
              "IPY_MODEL_34b2211716314bd498a439b510e6b0ff",
              "IPY_MODEL_9c0b2567c4044ae480f9d31c338414a2",
              "IPY_MODEL_f617f2695e4f410cbc6274306fbce0a4"
            ],
            "layout": "IPY_MODEL_f2d1cac884f44108bf841d9501938749"
          }
        },
        "34b2211716314bd498a439b510e6b0ff": {
          "model_module": "@jupyter-widgets/controls",
          "model_name": "HTMLModel",
          "model_module_version": "1.5.0",
          "state": {
            "_dom_classes": [],
            "_model_module": "@jupyter-widgets/controls",
            "_model_module_version": "1.5.0",
            "_model_name": "HTMLModel",
            "_view_count": null,
            "_view_module": "@jupyter-widgets/controls",
            "_view_module_version": "1.5.0",
            "_view_name": "HTMLView",
            "description": "",
            "description_tooltip": null,
            "layout": "IPY_MODEL_a70341cc6260450d99e965a9208f4174",
            "placeholder": "​",
            "style": "IPY_MODEL_5a23e8e94cf74aeeade09e97a613f24b",
            "value": "Generating train split: 100%"
          }
        },
        "9c0b2567c4044ae480f9d31c338414a2": {
          "model_module": "@jupyter-widgets/controls",
          "model_name": "FloatProgressModel",
          "model_module_version": "1.5.0",
          "state": {
            "_dom_classes": [],
            "_model_module": "@jupyter-widgets/controls",
            "_model_module_version": "1.5.0",
            "_model_name": "FloatProgressModel",
            "_view_count": null,
            "_view_module": "@jupyter-widgets/controls",
            "_view_module_version": "1.5.0",
            "_view_name": "ProgressView",
            "bar_style": "success",
            "description": "",
            "description_tooltip": null,
            "layout": "IPY_MODEL_8b5f7e38072b4b28b217f739e1103925",
            "max": 4838,
            "min": 0,
            "orientation": "horizontal",
            "style": "IPY_MODEL_0f836a0951d642cebe18d94c158cc150",
            "value": 4838
          }
        },
        "f617f2695e4f410cbc6274306fbce0a4": {
          "model_module": "@jupyter-widgets/controls",
          "model_name": "HTMLModel",
          "model_module_version": "1.5.0",
          "state": {
            "_dom_classes": [],
            "_model_module": "@jupyter-widgets/controls",
            "_model_module_version": "1.5.0",
            "_model_name": "HTMLModel",
            "_view_count": null,
            "_view_module": "@jupyter-widgets/controls",
            "_view_module_version": "1.5.0",
            "_view_name": "HTMLView",
            "description": "",
            "description_tooltip": null,
            "layout": "IPY_MODEL_77c802f1f617499ca08350e3d919d17d",
            "placeholder": "​",
            "style": "IPY_MODEL_652601351c734682b6259c55b34c08c1",
            "value": " 4838/4838 [00:00&lt;00:00, 13889.07 examples/s]"
          }
        },
        "f2d1cac884f44108bf841d9501938749": {
          "model_module": "@jupyter-widgets/base",
          "model_name": "LayoutModel",
          "model_module_version": "1.2.0",
          "state": {
            "_model_module": "@jupyter-widgets/base",
            "_model_module_version": "1.2.0",
            "_model_name": "LayoutModel",
            "_view_count": null,
            "_view_module": "@jupyter-widgets/base",
            "_view_module_version": "1.2.0",
            "_view_name": "LayoutView",
            "align_content": null,
            "align_items": null,
            "align_self": null,
            "border": null,
            "bottom": null,
            "display": null,
            "flex": null,
            "flex_flow": null,
            "grid_area": null,
            "grid_auto_columns": null,
            "grid_auto_flow": null,
            "grid_auto_rows": null,
            "grid_column": null,
            "grid_gap": null,
            "grid_row": null,
            "grid_template_areas": null,
            "grid_template_columns": null,
            "grid_template_rows": null,
            "height": null,
            "justify_content": null,
            "justify_items": null,
            "left": null,
            "margin": null,
            "max_height": null,
            "max_width": null,
            "min_height": null,
            "min_width": null,
            "object_fit": null,
            "object_position": null,
            "order": null,
            "overflow": null,
            "overflow_x": null,
            "overflow_y": null,
            "padding": null,
            "right": null,
            "top": null,
            "visibility": null,
            "width": null
          }
        },
        "a70341cc6260450d99e965a9208f4174": {
          "model_module": "@jupyter-widgets/base",
          "model_name": "LayoutModel",
          "model_module_version": "1.2.0",
          "state": {
            "_model_module": "@jupyter-widgets/base",
            "_model_module_version": "1.2.0",
            "_model_name": "LayoutModel",
            "_view_count": null,
            "_view_module": "@jupyter-widgets/base",
            "_view_module_version": "1.2.0",
            "_view_name": "LayoutView",
            "align_content": null,
            "align_items": null,
            "align_self": null,
            "border": null,
            "bottom": null,
            "display": null,
            "flex": null,
            "flex_flow": null,
            "grid_area": null,
            "grid_auto_columns": null,
            "grid_auto_flow": null,
            "grid_auto_rows": null,
            "grid_column": null,
            "grid_gap": null,
            "grid_row": null,
            "grid_template_areas": null,
            "grid_template_columns": null,
            "grid_template_rows": null,
            "height": null,
            "justify_content": null,
            "justify_items": null,
            "left": null,
            "margin": null,
            "max_height": null,
            "max_width": null,
            "min_height": null,
            "min_width": null,
            "object_fit": null,
            "object_position": null,
            "order": null,
            "overflow": null,
            "overflow_x": null,
            "overflow_y": null,
            "padding": null,
            "right": null,
            "top": null,
            "visibility": null,
            "width": null
          }
        },
        "5a23e8e94cf74aeeade09e97a613f24b": {
          "model_module": "@jupyter-widgets/controls",
          "model_name": "DescriptionStyleModel",
          "model_module_version": "1.5.0",
          "state": {
            "_model_module": "@jupyter-widgets/controls",
            "_model_module_version": "1.5.0",
            "_model_name": "DescriptionStyleModel",
            "_view_count": null,
            "_view_module": "@jupyter-widgets/base",
            "_view_module_version": "1.2.0",
            "_view_name": "StyleView",
            "description_width": ""
          }
        },
        "8b5f7e38072b4b28b217f739e1103925": {
          "model_module": "@jupyter-widgets/base",
          "model_name": "LayoutModel",
          "model_module_version": "1.2.0",
          "state": {
            "_model_module": "@jupyter-widgets/base",
            "_model_module_version": "1.2.0",
            "_model_name": "LayoutModel",
            "_view_count": null,
            "_view_module": "@jupyter-widgets/base",
            "_view_module_version": "1.2.0",
            "_view_name": "LayoutView",
            "align_content": null,
            "align_items": null,
            "align_self": null,
            "border": null,
            "bottom": null,
            "display": null,
            "flex": null,
            "flex_flow": null,
            "grid_area": null,
            "grid_auto_columns": null,
            "grid_auto_flow": null,
            "grid_auto_rows": null,
            "grid_column": null,
            "grid_gap": null,
            "grid_row": null,
            "grid_template_areas": null,
            "grid_template_columns": null,
            "grid_template_rows": null,
            "height": null,
            "justify_content": null,
            "justify_items": null,
            "left": null,
            "margin": null,
            "max_height": null,
            "max_width": null,
            "min_height": null,
            "min_width": null,
            "object_fit": null,
            "object_position": null,
            "order": null,
            "overflow": null,
            "overflow_x": null,
            "overflow_y": null,
            "padding": null,
            "right": null,
            "top": null,
            "visibility": null,
            "width": null
          }
        },
        "0f836a0951d642cebe18d94c158cc150": {
          "model_module": "@jupyter-widgets/controls",
          "model_name": "ProgressStyleModel",
          "model_module_version": "1.5.0",
          "state": {
            "_model_module": "@jupyter-widgets/controls",
            "_model_module_version": "1.5.0",
            "_model_name": "ProgressStyleModel",
            "_view_count": null,
            "_view_module": "@jupyter-widgets/base",
            "_view_module_version": "1.2.0",
            "_view_name": "StyleView",
            "bar_color": null,
            "description_width": ""
          }
        },
        "77c802f1f617499ca08350e3d919d17d": {
          "model_module": "@jupyter-widgets/base",
          "model_name": "LayoutModel",
          "model_module_version": "1.2.0",
          "state": {
            "_model_module": "@jupyter-widgets/base",
            "_model_module_version": "1.2.0",
            "_model_name": "LayoutModel",
            "_view_count": null,
            "_view_module": "@jupyter-widgets/base",
            "_view_module_version": "1.2.0",
            "_view_name": "LayoutView",
            "align_content": null,
            "align_items": null,
            "align_self": null,
            "border": null,
            "bottom": null,
            "display": null,
            "flex": null,
            "flex_flow": null,
            "grid_area": null,
            "grid_auto_columns": null,
            "grid_auto_flow": null,
            "grid_auto_rows": null,
            "grid_column": null,
            "grid_gap": null,
            "grid_row": null,
            "grid_template_areas": null,
            "grid_template_columns": null,
            "grid_template_rows": null,
            "height": null,
            "justify_content": null,
            "justify_items": null,
            "left": null,
            "margin": null,
            "max_height": null,
            "max_width": null,
            "min_height": null,
            "min_width": null,
            "object_fit": null,
            "object_position": null,
            "order": null,
            "overflow": null,
            "overflow_x": null,
            "overflow_y": null,
            "padding": null,
            "right": null,
            "top": null,
            "visibility": null,
            "width": null
          }
        },
        "652601351c734682b6259c55b34c08c1": {
          "model_module": "@jupyter-widgets/controls",
          "model_name": "DescriptionStyleModel",
          "model_module_version": "1.5.0",
          "state": {
            "_model_module": "@jupyter-widgets/controls",
            "_model_module_version": "1.5.0",
            "_model_name": "DescriptionStyleModel",
            "_view_count": null,
            "_view_module": "@jupyter-widgets/base",
            "_view_module_version": "1.2.0",
            "_view_name": "StyleView",
            "description_width": ""
          }
        }
      }
    }
  },
  "cells": [
    {
      "cell_type": "markdown",
      "metadata": {
        "id": "view-in-github",
        "colab_type": "text"
      },
      "source": [
        "<a href=\"https://colab.research.google.com/github/kunalkishor-k/LLM_Projects/blob/main/LlaMa_2.ipynb\" target=\"_parent\"><img src=\"https://colab.research.google.com/assets/colab-badge.svg\" alt=\"Open In Colab\"/></a>"
      ]
    },
    {
      "cell_type": "code",
      "execution_count": 14,
      "metadata": {
        "id": "4IAmhQxpIez5"
      },
      "outputs": [],
      "source": [
        "!pip install -qU sentence_transformers"
      ]
    },
    {
      "cell_type": "code",
      "source": [
        "from sentence_transformers import SentenceTransformer\n",
        "sentences = [\"This is an example sentence for testing\"]\n",
        "\n",
        "model = SentenceTransformer('sentence-transformers/all-MiniLM-L6-v2')\n",
        "embeddings = model.encode(sentences)\n",
        "print(embeddings)\n"
      ],
      "metadata": {
        "colab": {
          "base_uri": "https://localhost:8080/"
        },
        "id": "tRKIc-SWIgF4",
        "outputId": "8e878361-e63a-435c-fd66-7a3d8c83d2b3"
      },
      "execution_count": 15,
      "outputs": [
        {
          "output_type": "stream",
          "name": "stdout",
          "text": [
            "[[ 1.76166818e-02  6.15605749e-02  9.20934975e-03  6.14398345e-02\n",
            "   2.92286798e-02 -2.95462608e-02  3.99064273e-02  5.01365447e-03\n",
            "  -1.86233483e-02  5.18490337e-02  1.29952237e-01 -5.20440452e-02\n",
            "   5.99635206e-02 -3.74642876e-03  1.44930268e-02 -2.77881827e-02\n",
            "   5.74480444e-02 -1.04833748e-02 -6.21420369e-02  2.97440086e-02\n",
            "   3.52661274e-02 -1.64056011e-02 -1.27492342e-02  2.36809049e-02\n",
            "  -4.00940105e-02 -9.00361687e-03 -6.71133101e-02  5.94453700e-03\n",
            "   1.16250932e-01 -1.80328432e-02 -1.40031883e-02  2.48742718e-02\n",
            "   1.04459254e-02  6.07491434e-02  5.59588857e-02  1.78712662e-02\n",
            "   7.15857313e-04  3.60599509e-03 -1.10413395e-02 -6.95053581e-03\n",
            "  -1.34893367e-02 -8.67263973e-02  3.19028869e-02  3.16571328e-03\n",
            "   1.28198937e-02 -2.77638678e-02 -5.18122502e-03 -1.08797764e-02\n",
            "  -2.14113425e-02 -5.49315922e-02 -7.69047141e-02 -5.34915179e-02\n",
            "  -8.44440758e-02 -4.35032770e-02  1.16412882e-02  1.12354225e-02\n",
            "   4.39736480e-03  1.33050345e-02  1.08746709e-02  1.65327173e-02\n",
            "   4.14135195e-02 -2.17957273e-02 -9.40298438e-02  6.33399636e-02\n",
            "   1.31790161e-01 -4.19829637e-02  2.59239902e-03 -2.43914276e-02\n",
            "  -4.89249751e-02  5.16096205e-02  2.89781089e-03  6.44980296e-02\n",
            "  -2.48946026e-02  3.90302837e-02  4.45741462e-03 -7.57020665e-03\n",
            "  -1.82614718e-02 -6.56908453e-02  1.14339009e-01  1.49764437e-02\n",
            "  -7.99049214e-02 -1.04874112e-01 -3.96647528e-02  3.55580486e-02\n",
            "   4.84512448e-02  6.44152239e-02  6.68439567e-02 -1.05441861e-01\n",
            "  -4.94289249e-02 -4.23067342e-03 -7.62787135e-03 -2.83891149e-02\n",
            "  -3.53592820e-02  2.29817554e-02 -1.05408877e-02 -1.52058061e-02\n",
            "  -6.81439240e-04 -7.09091872e-02  1.99765954e-02  6.61749020e-02\n",
            "   3.47451381e-02  3.02241389e-02  5.64282835e-02  7.63263507e-03\n",
            "  -8.63027424e-02 -1.03940070e-01  2.89269295e-02 -1.12736627e-01\n",
            "   4.93513346e-02 -1.92336440e-02 -5.39979450e-02 -1.97920613e-02\n",
            "   2.79339999e-02 -6.69132359e-03 -4.12243344e-02 -6.68652356e-02\n",
            "  -1.14766255e-01  4.43469658e-02 -7.93147460e-02  1.75842494e-02\n",
            "   5.75347319e-02  6.46039769e-02 -4.16712724e-02  1.48814339e-02\n",
            "  -1.78094767e-02 -1.38219921e-02  1.10033169e-01 -6.02928318e-33\n",
            "   1.68596208e-02 -5.72844781e-02  1.12510258e-02  5.73264398e-02\n",
            "   2.42688935e-02 -1.46781728e-02 -2.60189977e-02  7.31397197e-02\n",
            "  -3.17910723e-02  2.76769530e-02  5.03439792e-02 -3.05312593e-02\n",
            "   1.84665318e-03  6.66453466e-02  2.87026986e-02  7.56887570e-02\n",
            "  -8.08584243e-02  8.88641551e-02 -1.27107138e-02  3.42340730e-02\n",
            "   5.23271970e-02 -3.17369848e-02 -1.57578625e-02 -9.89582390e-02\n",
            "  -6.43265396e-02 -3.88879552e-02  1.29369274e-02  3.07830371e-04\n",
            "  -5.83226734e-04  3.04832440e-02 -1.66427158e-02  1.81482192e-02\n",
            "  -1.19786978e-01  6.47560656e-02  2.23716162e-02  7.00459629e-02\n",
            "   3.67008336e-02 -4.07863297e-02 -2.95712017e-02  2.31955033e-02\n",
            "  -4.64398265e-02 -6.07260130e-02  3.20926160e-02  5.49780019e-03\n",
            "   1.38723820e-01 -4.31244336e-02 -5.46330772e-02  8.85714125e-03\n",
            "  -2.97396053e-02  9.92160384e-03 -3.45995952e-03  5.25666513e-02\n",
            "   4.29953299e-02 -3.46599706e-02  8.19311813e-02  5.88472076e-02\n",
            "   4.51164655e-02  3.45022082e-02 -1.89373847e-02  6.77744150e-02\n",
            "  -2.38409713e-02  3.57633317e-03 -7.09221363e-02  8.89478624e-02\n",
            "  -4.27744836e-02  1.65983383e-02 -1.49742877e-02 -1.43667117e-01\n",
            "   8.46678317e-02  5.32732606e-02 -4.23071608e-02 -1.49446586e-02\n",
            "  -1.11469500e-01  7.06935599e-02 -5.19440323e-02 -5.62649369e-02\n",
            "  -2.70446502e-02  6.15345649e-02 -1.89215485e-02 -3.41874808e-02\n",
            "   3.69231366e-02 -1.39520556e-01 -3.32514523e-03  2.99578384e-02\n",
            "  -7.18299001e-02 -3.99484634e-02  4.26011533e-02 -1.22246042e-01\n",
            "  -1.19088367e-02 -4.87470441e-02 -1.13440994e-02  2.37293802e-02\n",
            "   6.13173470e-03 -1.28359888e-02  6.70640245e-02  3.28362776e-33\n",
            "  -6.41394183e-02  6.44468591e-02 -7.15406463e-02  9.40681398e-02\n",
            "   7.99944177e-02 -3.20994593e-02  9.90081131e-02 -1.08744696e-01\n",
            "  -1.16023282e-02  5.28533533e-02 -5.31000309e-02 -2.43265498e-02\n",
            "  -1.65961385e-02 -4.09513786e-02 -2.77552698e-02 -1.26497531e-02\n",
            "   4.50389013e-02 -5.80904372e-02 -1.67876147e-02  5.02042025e-02\n",
            "  -2.87945624e-02  1.18232891e-01 -1.23094581e-02  2.68941633e-02\n",
            "  -9.13646743e-02  1.48790600e-02 -4.15882282e-02 -3.20359133e-02\n",
            "  -6.20594956e-02 -7.92593136e-03  1.76109578e-02  9.08323191e-03\n",
            "  -7.53197297e-02  5.70060909e-02  2.15540323e-02  7.54497107e-03\n",
            "   1.44438520e-01 -4.49001789e-02 -1.93157643e-02  5.27660064e-02\n",
            "   2.31932327e-02  3.76172103e-02  2.28206012e-02  4.91006561e-02\n",
            "   2.23617814e-02  3.52150463e-02  1.55702066e-02 -9.50919762e-02\n",
            "   1.37122031e-02  4.18144725e-02 -4.73678857e-02  1.15314806e-02\n",
            "  -5.20444848e-02  2.53917854e-02 -8.21297318e-02  2.39367299e-02\n",
            "  -5.04591018e-02 -5.98312840e-02 -4.05006064e-03  6.24581315e-02\n",
            "  -6.72121495e-02  5.92331439e-02 -2.43598856e-02  7.93708488e-02\n",
            "   1.45985344e-02 -5.66183291e-02 -2.35120803e-02  7.13922381e-02\n",
            "   6.32395297e-02  2.57887747e-02  8.31407085e-02  2.50612181e-02\n",
            "  -7.27321580e-02 -3.13143581e-02 -2.40544416e-02 -4.77640964e-02\n",
            "  -5.99229485e-02 -6.61759451e-02 -2.21760781e-03 -3.99393067e-02\n",
            "  -1.65043231e-02 -2.86856610e-02  3.14879953e-03  1.29756788e-02\n",
            "  -4.50844839e-02 -1.79992188e-02 -7.82654341e-03 -3.31780836e-02\n",
            "  -4.37860712e-02  1.81339364e-02  3.30587178e-02 -2.75506005e-02\n",
            "   2.81633660e-02  4.80036512e-02 -6.05368242e-03 -1.64408895e-08\n",
            "  -1.00184111e-02 -3.00424714e-02  5.81154227e-02 -2.23481748e-02\n",
            "  -9.08443332e-03 -5.22628799e-03  4.15579565e-02 -6.98145032e-02\n",
            "  -2.67201364e-02 -3.03937923e-02  7.04378588e-03  5.87744117e-02\n",
            "  -3.71728241e-02  5.07422276e-02  5.90921976e-02 -2.93443678e-04\n",
            "  -3.67454924e-02 -8.99792090e-03 -3.09989452e-02  7.22483099e-02\n",
            "  -2.53603216e-02  7.19630867e-02  1.26462495e-02  2.52315085e-02\n",
            "  -1.16880413e-03  1.90156028e-02  6.34751990e-02  1.08449273e-01\n",
            "   3.24354880e-02 -8.10202956e-03  9.18668658e-02  9.64846238e-02\n",
            "   1.96597655e-03 -4.82021756e-02  3.65563333e-02  1.04054347e-01\n",
            "   1.58378761e-02  2.16821171e-02  7.55206943e-02 -2.44245976e-02\n",
            "  -8.71372148e-02  2.52049733e-02 -2.41458546e-02  4.29418869e-02\n",
            "   5.74072218e-03 -4.40789126e-02 -7.14768842e-02 -4.44935150e-02\n",
            "  -4.84419726e-02 -5.33852018e-02  7.24457623e-03  7.36493664e-03\n",
            "  -1.27120912e-02 -1.45390416e-02 -1.85494008e-03  4.68056537e-02\n",
            "   4.89158183e-02 -2.34521870e-02 -7.73119181e-02 -2.86108669e-04\n",
            "   7.57592246e-02  8.55700597e-02  3.66292484e-02 -5.69168143e-02]]\n"
          ]
        }
      ]
    },
    {
      "cell_type": "code",
      "source": [
        "pip install langchain-community"
      ],
      "metadata": {
        "colab": {
          "base_uri": "https://localhost:8080/"
        },
        "id": "fvOSIKYmIgJQ",
        "outputId": "4fab5ef6-477c-413e-d683-083412bcd2ac"
      },
      "execution_count": 16,
      "outputs": [
        {
          "output_type": "stream",
          "name": "stdout",
          "text": [
            "Requirement already satisfied: langchain-community in /usr/local/lib/python3.10/dist-packages (0.2.10)\n",
            "Requirement already satisfied: PyYAML>=5.3 in /usr/local/lib/python3.10/dist-packages (from langchain-community) (6.0.1)\n",
            "Requirement already satisfied: SQLAlchemy<3,>=1.4 in /usr/local/lib/python3.10/dist-packages (from langchain-community) (2.0.31)\n",
            "Requirement already satisfied: aiohttp<4.0.0,>=3.8.3 in /usr/local/lib/python3.10/dist-packages (from langchain-community) (3.9.5)\n",
            "Requirement already satisfied: dataclasses-json<0.7,>=0.5.7 in /usr/local/lib/python3.10/dist-packages (from langchain-community) (0.6.7)\n",
            "Requirement already satisfied: langchain<0.3.0,>=0.2.9 in /usr/local/lib/python3.10/dist-packages (from langchain-community) (0.2.11)\n",
            "Requirement already satisfied: langchain-core<0.3.0,>=0.2.23 in /usr/local/lib/python3.10/dist-packages (from langchain-community) (0.2.23)\n",
            "Requirement already satisfied: langsmith<0.2.0,>=0.1.0 in /usr/local/lib/python3.10/dist-packages (from langchain-community) (0.1.93)\n",
            "Requirement already satisfied: numpy<2,>=1 in /usr/local/lib/python3.10/dist-packages (from langchain-community) (1.25.2)\n",
            "Requirement already satisfied: requests<3,>=2 in /usr/local/lib/python3.10/dist-packages (from langchain-community) (2.32.3)\n",
            "Requirement already satisfied: tenacity!=8.4.0,<9.0.0,>=8.1.0 in /usr/local/lib/python3.10/dist-packages (from langchain-community) (8.5.0)\n",
            "Requirement already satisfied: aiosignal>=1.1.2 in /usr/local/lib/python3.10/dist-packages (from aiohttp<4.0.0,>=3.8.3->langchain-community) (1.3.1)\n",
            "Requirement already satisfied: attrs>=17.3.0 in /usr/local/lib/python3.10/dist-packages (from aiohttp<4.0.0,>=3.8.3->langchain-community) (23.2.0)\n",
            "Requirement already satisfied: frozenlist>=1.1.1 in /usr/local/lib/python3.10/dist-packages (from aiohttp<4.0.0,>=3.8.3->langchain-community) (1.4.1)\n",
            "Requirement already satisfied: multidict<7.0,>=4.5 in /usr/local/lib/python3.10/dist-packages (from aiohttp<4.0.0,>=3.8.3->langchain-community) (6.0.5)\n",
            "Requirement already satisfied: yarl<2.0,>=1.0 in /usr/local/lib/python3.10/dist-packages (from aiohttp<4.0.0,>=3.8.3->langchain-community) (1.9.4)\n",
            "Requirement already satisfied: async-timeout<5.0,>=4.0 in /usr/local/lib/python3.10/dist-packages (from aiohttp<4.0.0,>=3.8.3->langchain-community) (4.0.3)\n",
            "Requirement already satisfied: marshmallow<4.0.0,>=3.18.0 in /usr/local/lib/python3.10/dist-packages (from dataclasses-json<0.7,>=0.5.7->langchain-community) (3.21.3)\n",
            "Requirement already satisfied: typing-inspect<1,>=0.4.0 in /usr/local/lib/python3.10/dist-packages (from dataclasses-json<0.7,>=0.5.7->langchain-community) (0.9.0)\n",
            "Requirement already satisfied: langchain-text-splitters<0.3.0,>=0.2.0 in /usr/local/lib/python3.10/dist-packages (from langchain<0.3.0,>=0.2.9->langchain-community) (0.2.2)\n",
            "Requirement already satisfied: pydantic<3,>=1 in /usr/local/lib/python3.10/dist-packages (from langchain<0.3.0,>=0.2.9->langchain-community) (2.8.2)\n",
            "Requirement already satisfied: jsonpatch<2.0,>=1.33 in /usr/local/lib/python3.10/dist-packages (from langchain-core<0.3.0,>=0.2.23->langchain-community) (1.33)\n",
            "Requirement already satisfied: packaging<25,>=23.2 in /usr/local/lib/python3.10/dist-packages (from langchain-core<0.3.0,>=0.2.23->langchain-community) (24.1)\n",
            "Requirement already satisfied: orjson<4.0.0,>=3.9.14 in /usr/local/lib/python3.10/dist-packages (from langsmith<0.2.0,>=0.1.0->langchain-community) (3.10.6)\n",
            "Requirement already satisfied: charset-normalizer<4,>=2 in /usr/local/lib/python3.10/dist-packages (from requests<3,>=2->langchain-community) (3.3.2)\n",
            "Requirement already satisfied: idna<4,>=2.5 in /usr/local/lib/python3.10/dist-packages (from requests<3,>=2->langchain-community) (3.7)\n",
            "Requirement already satisfied: urllib3<3,>=1.21.1 in /usr/local/lib/python3.10/dist-packages (from requests<3,>=2->langchain-community) (2.0.7)\n",
            "Requirement already satisfied: certifi>=2017.4.17 in /usr/local/lib/python3.10/dist-packages (from requests<3,>=2->langchain-community) (2024.7.4)\n",
            "Requirement already satisfied: typing-extensions>=4.6.0 in /usr/local/lib/python3.10/dist-packages (from SQLAlchemy<3,>=1.4->langchain-community) (4.12.2)\n",
            "Requirement already satisfied: greenlet!=0.4.17 in /usr/local/lib/python3.10/dist-packages (from SQLAlchemy<3,>=1.4->langchain-community) (3.0.3)\n",
            "Requirement already satisfied: jsonpointer>=1.9 in /usr/local/lib/python3.10/dist-packages (from jsonpatch<2.0,>=1.33->langchain-core<0.3.0,>=0.2.23->langchain-community) (3.0.0)\n",
            "Requirement already satisfied: annotated-types>=0.4.0 in /usr/local/lib/python3.10/dist-packages (from pydantic<3,>=1->langchain<0.3.0,>=0.2.9->langchain-community) (0.7.0)\n",
            "Requirement already satisfied: pydantic-core==2.20.1 in /usr/local/lib/python3.10/dist-packages (from pydantic<3,>=1->langchain<0.3.0,>=0.2.9->langchain-community) (2.20.1)\n",
            "Requirement already satisfied: mypy-extensions>=0.3.0 in /usr/local/lib/python3.10/dist-packages (from typing-inspect<1,>=0.4.0->dataclasses-json<0.7,>=0.5.7->langchain-community) (1.0.0)\n"
          ]
        }
      ]
    },
    {
      "cell_type": "code",
      "source": [
        "from torch import cuda\n",
        "from langchain.embeddings.huggingface import HuggingFaceEmbeddings"
      ],
      "metadata": {
        "id": "jKtiXAXDIgXg"
      },
      "execution_count": 17,
      "outputs": []
    },
    {
      "cell_type": "code",
      "source": [
        "embed_model_id = 'sentence-transformers/all-MiniLM-L6-v2'\n",
        "device = f'cuda:{cuda.current_device()}' if cuda.is_available() else 'cpu'\n",
        "\n",
        "embed_model = HuggingFaceEmbeddings(\n",
        "    model_name = embed_model_id,\n",
        "    model_kwargs={'device':device},\n",
        "    encode_kwargs= {'device': device, 'batch_size':32}\n",
        ")"
      ],
      "metadata": {
        "id": "ad_w52qxIgaq"
      },
      "execution_count": 18,
      "outputs": []
    },
    {
      "cell_type": "code",
      "source": [
        "docs = [\"this is the one document of one line\",\n",
        "        \" this an be seccond documnet for test\"\n",
        "        ]\n",
        "embeddings = embed_model.embed_documents(docs)\n",
        "print(len(embeddings[1]))"
      ],
      "metadata": {
        "id": "G0o6vZrlOdg0",
        "outputId": "dea660df-5751-4e58-ea85-0b1841bf57bc",
        "colab": {
          "base_uri": "https://localhost:8080/"
        }
      },
      "execution_count": 19,
      "outputs": [
        {
          "output_type": "stream",
          "name": "stdout",
          "text": [
            "384\n"
          ]
        }
      ]
    },
    {
      "cell_type": "code",
      "source": [
        "print(embeddings)"
      ],
      "metadata": {
        "id": "pQQqjMrvPNbO",
        "outputId": "be143c9a-0cb8-4b30-f811-2381524bc1a1",
        "colab": {
          "base_uri": "https://localhost:8080/"
        }
      },
      "execution_count": 20,
      "outputs": [
        {
          "output_type": "stream",
          "name": "stdout",
          "text": [
            "[[-0.07794784754514694, 0.12438628077507019, 0.023108989000320435, 0.04557473585009575, -0.0022106601390987635, 0.025405921041965485, 0.003594289068132639, 0.0010359779698774219, 0.01685922220349312, 0.02218678593635559, -0.010528694838285446, 0.04239548742771149, 0.012536481954157352, -0.06567034870386124, -0.06455586105585098, 0.033527176827192307, -0.11563898622989655, -0.026214469224214554, 0.03517928346991539, 0.05570821091532707, 0.03835156559944153, 0.1219681054353714, 0.01821020245552063, 0.007553460542112589, -0.03799156844615936, 0.006250960286706686, -0.08768777549266815, -0.011158213019371033, -0.004920350853353739, -0.10449618101119995, 0.03547197952866554, 0.0510735921561718, 0.02928856946527958, 0.10776244103908539, 0.07263687252998352, 0.026266606524586678, 0.10937981307506561, 0.026978012174367905, 0.043847326189279556, 0.057276401668787, 0.01319803949445486, -0.07243421673774719, -0.06365370750427246, 0.0030427745077759027, 0.007566853892058134, -0.04116908088326454, -0.11324267834424973, 0.0015401779673993587, 0.046583354473114014, 0.033491723239421844, -0.03162667155265808, -0.0023017560597509146, -0.06654363125562668, 0.010251401923596859, 0.0653371810913086, 0.05348725616931915, 0.005918992217630148, 0.06400429457426071, -0.052716150879859924, -0.05438302829861641, -0.011792625300586224, 0.039168793708086014, -0.07937689870595932, 0.04889144003391266, 0.14024443924427032, 0.001982169458642602, -0.017210165038704872, -0.024560745805501938, -0.10504705458879471, 0.0228698942810297, -0.056612927466630936, -0.04502683877944946, 0.01806771196424961, -0.0024321959353983402, -0.015465734526515007, -0.04994712397456169, -0.04799986258149147, 0.0023849254939705133, 0.04130828008055687, -0.017414338886737823, -0.04688103497028351, -0.03249587491154671, 0.018365733325481415, -0.039928536862134933, -0.026192763820290565, 0.03070943057537079, 0.007374361157417297, -0.08487621694803238, 0.11952191591262817, 0.028178755193948746, 0.00921985786408186, -0.04240116477012634, 0.12128675729036331, 0.023232940584421158, -0.08714966475963593, 0.017338335514068604, -0.044357266277074814, -0.020396027714014053, 0.03942220285534859, 0.05405592545866966, 0.001446632668375969, 0.0430995337665081, 0.11847425252199173, 0.05575432628393173, -0.06486763060092926, -0.08850274980068207, -0.01541947666555643, -0.035676222294569016, 0.020693229511380196, -0.0463850237429142, 0.018246449530124664, -0.08180103451013565, -0.07416190207004547, -0.04578566178679466, -0.02101576328277588, -0.014340845867991447, -0.007629936560988426, 0.0660596489906311, 0.0679875910282135, 0.04797482118010521, -0.05394035577774048, -0.04510561376810074, -0.020042458549141884, -0.00983588956296444, -0.05241173505783081, -0.11461087316274643, 0.10700250416994095, -4.605999758912449e-33, 0.010912097059190273, -0.008159802295267582, -0.023430360481142998, 0.06411702930927277, 0.030643314123153687, 0.03996116667985916, -0.03203858062624931, 0.0028087447863072157, -0.13079462945461273, -0.011170480400323868, 0.014943941496312618, -0.047945503145456314, 0.0407368503510952, 0.06031177192926407, -0.11074958741664886, 0.021808743476867676, -0.05292800813913345, 0.03978835418820381, 0.029829518869519234, 0.005284198559820652, -0.052252527326345444, 0.052561745047569275, 0.012515653856098652, -0.0810873806476593, 0.04315103963017464, -0.010417887941002846, 0.03488513082265854, -0.019197408109903336, -0.07458563894033432, 0.016497991979122162, -0.01037515141069889, 0.009864532388746738, 0.0007475907332263887, -0.06988678872585297, -0.021714769303798676, 0.06829739362001419, -0.01018454972654581, -0.024393079802393913, 0.008661690168082714, -0.01320553570985794, -0.08306995034217834, -0.0013529050629585981, 0.06836654245853424, -0.05491802841424942, 0.05002475157380104, 0.0684463158249855, -0.06933540850877762, 0.03252916783094406, 0.053881242871284485, -0.0059680151753127575, -0.04270501062273979, 0.0630291998386383, 0.007021620869636536, -0.05249061435461044, 0.06808281689882278, -0.01659999042749405, -0.009863574989140034, 0.08281275629997253, -0.006259597837924957, -0.02262258157134056, 0.011836187914013863, 0.011735502630472183, -0.08774467557668686, 0.015839552506804466, -0.0019935937598347664, -0.0010386623907834291, -0.05333278700709343, 0.01101273950189352, 0.09641358256340027, -0.021771468222141266, -0.11138252168893814, -0.003331843065097928, 0.0027283448725938797, -0.07571602612733841, -0.05782850831747055, -0.011331816203892231, 0.005604672245681286, -0.03518356382846832, 0.022686408832669258, -0.0033140024170279503, -0.13058412075042725, -0.022346802055835724, 0.01378853153437376, 0.04236462339758873, 0.005396347958594561, 0.06156555563211441, 0.08199533075094223, -0.04998192563652992, 0.0054879081435501575, 0.05083756893873215, -0.005526741035282612, 0.03599327802658081, -0.012910564430058002, -0.09431831538677216, 0.06135067343711853, 1.5727515646567257e-33, -0.052385520190000534, -0.07244259864091873, -0.08025453984737396, 0.06503258645534515, 0.011398985981941223, 0.08345309644937515, 0.0067423805594444275, 0.0046801380813121796, 0.06311541795730591, 0.11616840958595276, 0.02238624542951584, 0.0221613347530365, -0.04532041773200035, 0.004090051632374525, 0.04049825295805931, 0.006574377417564392, 0.031041085720062256, -0.009645698592066765, -0.002875475212931633, 0.07760997116565704, -0.04503081738948822, -0.028585858643054962, 0.0014083865098655224, 0.08480106294155121, 0.009169545024633408, -0.00668116332963109, 0.049191467463970184, -0.03178673982620239, -0.06021599844098091, 0.009775453247129917, -0.006100733298808336, -0.031128065660595894, -0.07832501828670502, 0.02234463393688202, -0.015928789973258972, -0.02233540080487728, 0.03797997534275055, 0.036411385983228683, 0.03465237095952034, 0.10739292949438095, 0.01688881404697895, 0.03677629679441452, 0.029057206586003304, -0.04792770370841026, -0.03820612654089928, -0.03451316058635712, -0.015484731644392014, 0.011030538007616997, -0.04124528169631958, 0.042522307485342026, -0.07017387449741364, 0.02822248823940754, -0.008688123896718025, -0.06170905753970146, -0.062249235808849335, -0.00648657139390707, -0.017432428896427155, -0.003630873281508684, -0.02425208128988743, 0.02260432206094265, 0.02303018420934677, 0.0962354987859726, -0.06878778338432312, 0.09028510749340057, 0.08175958693027496, -0.06528511643409729, -0.006392234470695257, 0.009093157947063446, -0.04237696900963783, 0.0369020476937294, 0.04457421600818634, -0.028809458017349243, -0.0803377628326416, -0.06961647421121597, 0.028353888541460037, 0.0019786269403994083, 0.019742581993341446, -0.08272333443164825, -0.06459251046180725, -0.06379804760217667, 0.09918593615293503, 0.009216432459652424, -0.07668744027614594, 0.03406934067606926, 0.0326128713786602, -0.03211045265197754, 0.0468304343521595, -0.00042148082866333425, -0.013649508357048035, 0.03277713805437088, -0.08015552163124084, 0.038633525371551514, -0.017396844923496246, 0.001106373849324882, -0.06798557937145233, -1.733527632552523e-08, -0.020742695778608322, -0.04954710975289345, 0.04962094873189926, -0.052962180227041245, 0.02600627765059471, 0.053586650639772415, 0.06877706199884415, -0.044873591512441635, -0.06627978384494781, -0.010005972348153591, 0.06046570464968681, 0.07463868707418442, -0.05233192816376686, 0.009885440580546856, 0.05328601226210594, -0.033599790185689926, -0.037261106073856354, -0.07287655770778656, -0.07155927270650864, 0.00915276538580656, 0.021342551335692406, 0.022443052381277084, 0.025454379618167877, -0.09504371136426926, -0.0190911665558815, 0.05350574851036072, 0.0074118743650615215, 0.08284235000610352, 0.0044865794479846954, -0.0463097020983696, 0.007982267998158932, 0.06535691767930984, 0.019652850925922394, -0.011461888439953327, 0.09029638022184372, -0.0006000041612423956, 0.056003302335739136, 0.0688496083021164, 0.02922661229968071, -0.0035918753128498793, -0.001158220344223082, -0.008404827676713467, -0.020645949989557266, 0.050236817449331284, 0.062294911593198776, 0.04717639088630676, -0.0017237173160538077, -0.04075971245765686, -0.02962861768901348, -0.0627538189291954, -0.0329035185277462, -0.04152267053723335, 0.10050888359546661, 0.009493684396147728, -0.05957047641277313, 0.03570495918393135, 0.08731822669506073, 0.021626342087984085, -0.013378429226577282, -0.003095240332186222, 0.07020969688892365, 0.07751023769378662, 0.0557980090379715, -0.01912659965455532], [-0.05327334627509117, -0.00014252708933781832, -0.05210230126976967, 0.003968011122196913, 0.014726069755852222, -0.015592810697853565, 0.0007069295388646424, 0.04286814481019974, 0.012392452917993069, 0.02891257219016552, 0.05938013270497322, -0.024149546399712563, 0.02838197350502014, 0.007990228943526745, -0.03202955797314644, -0.09486626833677292, 0.048620399087667465, 0.01471905317157507, -0.021033378317952156, 0.051965609192848206, 0.02837020717561245, 0.043803922832012177, -0.012147647328674793, -0.010138701647520065, -0.06130350008606911, -0.0031710793264210224, -0.03274889290332794, -0.044876828789711, 0.015755901113152504, -0.012940204702317715, 0.031225237995386124, 0.04898644611239433, -0.044624969363212585, 0.05637359991669655, 0.10380944609642029, 0.015451070852577686, 0.11290914565324783, -0.02556890994310379, 0.058497849851846695, 0.03143441304564476, -0.023133618757128716, -0.1071222573518753, -0.013828101567924023, 0.034077029675245285, 0.011797407642006874, -0.0075469790026545525, -0.08274640887975693, 0.0013986193807795644, -0.014285127632319927, 0.03991199657320976, -0.08062238246202469, -0.05547069013118744, -0.037626493722200394, -0.02569153532385826, 0.022917253896594048, 0.07072701305150986, 0.022676803171634674, -0.002839793683961034, -0.03930560499429703, 0.001391968922689557, -0.0037361180875450373, 0.002519427565857768, -0.09213631600141525, 0.07970608025789261, 0.07377272844314575, 0.05334058776497841, 0.012372374534606934, -0.004497738089412451, 0.07911171764135361, -0.0931297019124031, -0.08589312434196472, 0.016071511432528496, 0.0013660377589985728, 4.2265994125045836e-05, 0.016453871503472328, 0.054773785173892975, 0.004027004819363356, -0.03308885917067528, 0.028253477066755295, -0.15634681284427643, -0.03169791027903557, 0.0453718863427639, -0.022037163376808167, -0.0023930873721837997, -0.024601899087429047, 0.027097100391983986, 0.13314320147037506, 0.060908060520887375, -0.027685627341270447, 0.014852505177259445, 0.058175958693027496, -0.04947441816329956, 0.0024455965030938387, -0.0317719541490078, 0.00669335899874568, 0.06345414370298386, -0.021928150206804276, -0.0899953693151474, 0.05295250564813614, 0.05918069928884506, 0.0035690662916749716, 0.0139992106705904, -0.07100167125463486, 0.0013617421500384808, -0.09529890865087509, -0.013790644705295563, -0.017816077917814255, -0.05109838768839836, 0.058547500520944595, -0.03377390280365944, -0.035613689571619034, 0.026026912033557892, -0.06467223167419434, -0.060908254235982895, 0.024155501276254654, -0.01448692288249731, -0.031971801072359085, 0.009161042980849743, 0.0452350489795208, -0.023581819608807564, 0.04093606770038605, 0.006728185340762138, -0.02131441794335842, -0.03331734985113144, 0.007494041696190834, -0.04588763788342476, 0.061509620398283005, -2.293110987312184e-34, 0.031969815492630005, -0.08677917718887329, -0.027367740869522095, 0.10947075486183167, 0.009748803451657295, 0.0662759393453598, -0.028942961245775223, 0.04276243597269058, -0.03958221152424812, -0.01936277747154236, -0.06673674285411835, 0.020020540803670883, -0.037062667310237885, -0.025547504425048828, -0.022222133353352547, -0.014422313310205936, -0.04431012645363808, 0.059471942484378815, 0.007233896292746067, 0.04224381223320961, 0.03134215250611305, -0.03875923156738281, 0.033038217574357986, -0.06899219006299973, 0.02377190813422203, -0.06199127435684204, -0.037633802741765976, -0.004845629446208477, 0.001989881508052349, 0.04614132642745972, -0.05675125494599342, -0.00360059249214828, -0.0866868868470192, 0.06589318811893463, 0.038837332278490067, 0.06859990209341049, -0.02332603745162487, -0.010542243719100952, -0.006777926813811064, -0.006658207159489393, -0.06998598575592041, 0.005313265137374401, 0.04725020378828049, 0.016130797564983368, 0.04961806535720825, -0.08106604218482971, -0.04714614152908325, -0.011561710387468338, 0.09487175196409225, 0.0034622568637132645, 0.014168055728077888, 0.0370447039604187, 0.016389183700084686, -0.09883414208889008, 0.009279626421630383, 0.009348246268928051, 0.027425862848758698, 0.03289471194148064, 0.012710180133581161, 0.10954736173152924, 0.012284529395401478, 0.04349377378821373, -0.05544694513082504, -0.02637392468750477, -0.08486655354499817, 0.006367642432451248, -0.10317452251911163, -0.04219500720500946, 0.06130529195070267, -0.003187100635841489, -0.0748872235417366, -0.004162815399467945, -0.07506734132766724, 0.041067976504564285, 0.024981431663036346, -0.05508299544453621, 0.015897288918495178, 0.014633116312325, -0.03986723721027374, -0.043549567461013794, 0.02509373053908348, -0.04486953094601631, 0.0026201975997537374, -0.009983903728425503, -0.015645818784832954, -0.023189909756183624, -0.0024884939193725586, 0.005123182665556669, -0.026481905952095985, -0.06245093792676926, 0.09589893370866776, 0.050546448677778244, 0.0007962362142279744, -0.009247565641999245, 0.08078545331954956, -2.4736215987811332e-33, -0.034649621695280075, -0.05455375090241432, -0.10756572335958481, 0.1259884089231491, 0.0030384031124413013, -0.004153081215918064, 0.04453752934932709, 0.029905330389738083, -0.07046517729759216, 0.028354015201330185, 0.05173551291227341, -0.00510628754273057, -0.011151685379445553, -0.039506569504737854, -0.037631865590810776, 0.021402297541499138, 0.0067930095829069614, -0.07706402987241745, -0.03372647613286972, 0.0902404710650444, -0.01964372768998146, 0.08563218265771866, -0.007099171169102192, -0.037235602736473083, -0.011200114153325558, -0.001231514848768711, -0.085298553109169, -0.04863383620977402, -0.05625874176621437, -0.004978812765330076, 0.02739534340798855, 0.004850803408771753, -0.1609194129705429, 0.03249794989824295, 0.01725311391055584, -0.045213595032691956, 0.14633196592330933, 0.010579186491668224, -0.0239420123398304, 0.013796799816191196, 0.10813019424676895, 0.08704794943332672, -0.028381571173667908, 0.007053065579384565, 0.008887233212590218, 0.01588399149477482, 0.009611149318516254, -0.0338880829513073, 0.015489067882299423, 0.13632231950759888, -0.02173338644206524, -0.05444560572504997, 0.07133647799491882, -0.031063344329595566, -0.051871124655008316, -0.021902762353420258, -0.039476584643125534, -0.04974336177110672, -0.002209896221756935, 0.07183389365673065, 0.04460141807794571, 0.06815475970506668, -0.018312545493245125, 0.10811050236225128, 0.05402131751179695, -0.06041789799928665, -0.10378731042146683, 0.07226420193910599, -0.04533388465642929, 0.04715412110090256, 0.06358424574136734, -0.025363823398947716, -0.08202730864286423, -0.04668564721941948, 0.027741853147745132, -0.08193521201610565, 0.029243068769574165, -0.07545023411512375, -0.013543356209993362, 0.03922471031546593, -0.018799427896738052, 0.05815939977765083, -0.06318841129541397, 0.027997268363833427, -0.011261745356023312, 0.039567120373249054, 0.06373709440231323, 0.07501222938299179, -0.01027732901275158, 0.025182217359542847, -0.07403646409511566, -0.007627889513969421, 0.02175813354551792, 0.005661092232912779, 0.03501785919070244, -2.3002012738970734e-08, -0.04942333325743675, -0.011624787002801895, -0.027116382494568825, 0.042862214148044586, 0.0010432243579998612, -0.000789423065725714, -0.04963009059429169, -0.07708300650119781, -0.030737701803445816, -0.029051102697849274, 0.06778369098901749, 0.015569835901260376, -0.04146909341216087, 0.0033715886529535055, 0.004856076091527939, -0.025524964556097984, 0.018519654870033264, -0.01947290636599064, -0.038498565554618835, -0.03229822590947151, 0.0030612191185355186, 0.016961224377155304, 0.03581751510500908, 0.07069698721170425, 0.01943703554570675, 0.07924142479896545, 0.08459051698446274, 0.10772835463285446, 0.030102763324975967, -0.0313759408891201, 0.025959361344575882, -0.022674227133393288, -0.08951190859079361, -0.07586558163166046, 0.03456919640302658, 0.17113640904426575, -0.038824521005153656, 0.09393657743930817, 0.036201994866132736, 0.008901356719434261, -0.11011206358671188, -0.029100660234689713, 0.0035083796828985214, 0.0521942600607872, 0.07867422699928284, -0.058755625039339066, -0.09008866548538208, -0.01558314822614193, -0.03232428804039955, -0.09703177213668823, -0.06594110280275345, -0.01617419719696045, 0.049961525946855545, 0.006430747453123331, -0.03564273938536644, 0.05237242951989174, 0.051887355744838715, -0.011572732590138912, -0.07657590508460999, -0.00952550396323204, -0.0037600884679704905, 0.098241426050663, 0.035593606531620026, -0.01266240980476141]]\n"
          ]
        }
      ]
    },
    {
      "cell_type": "code",
      "source": [
        "embeddings[0]"
      ],
      "metadata": {
        "id": "ILAFOrZFuenX",
        "outputId": "be9c0133-f75a-4e7b-c1c0-6b4628943cca",
        "colab": {
          "base_uri": "https://localhost:8080/"
        }
      },
      "execution_count": 21,
      "outputs": [
        {
          "output_type": "execute_result",
          "data": {
            "text/plain": [
              "[-0.07794784754514694,\n",
              " 0.12438628077507019,\n",
              " 0.023108989000320435,\n",
              " 0.04557473585009575,\n",
              " -0.0022106601390987635,\n",
              " 0.025405921041965485,\n",
              " 0.003594289068132639,\n",
              " 0.0010359779698774219,\n",
              " 0.01685922220349312,\n",
              " 0.02218678593635559,\n",
              " -0.010528694838285446,\n",
              " 0.04239548742771149,\n",
              " 0.012536481954157352,\n",
              " -0.06567034870386124,\n",
              " -0.06455586105585098,\n",
              " 0.033527176827192307,\n",
              " -0.11563898622989655,\n",
              " -0.026214469224214554,\n",
              " 0.03517928346991539,\n",
              " 0.05570821091532707,\n",
              " 0.03835156559944153,\n",
              " 0.1219681054353714,\n",
              " 0.01821020245552063,\n",
              " 0.007553460542112589,\n",
              " -0.03799156844615936,\n",
              " 0.006250960286706686,\n",
              " -0.08768777549266815,\n",
              " -0.011158213019371033,\n",
              " -0.004920350853353739,\n",
              " -0.10449618101119995,\n",
              " 0.03547197952866554,\n",
              " 0.0510735921561718,\n",
              " 0.02928856946527958,\n",
              " 0.10776244103908539,\n",
              " 0.07263687252998352,\n",
              " 0.026266606524586678,\n",
              " 0.10937981307506561,\n",
              " 0.026978012174367905,\n",
              " 0.043847326189279556,\n",
              " 0.057276401668787,\n",
              " 0.01319803949445486,\n",
              " -0.07243421673774719,\n",
              " -0.06365370750427246,\n",
              " 0.0030427745077759027,\n",
              " 0.007566853892058134,\n",
              " -0.04116908088326454,\n",
              " -0.11324267834424973,\n",
              " 0.0015401779673993587,\n",
              " 0.046583354473114014,\n",
              " 0.033491723239421844,\n",
              " -0.03162667155265808,\n",
              " -0.0023017560597509146,\n",
              " -0.06654363125562668,\n",
              " 0.010251401923596859,\n",
              " 0.0653371810913086,\n",
              " 0.05348725616931915,\n",
              " 0.005918992217630148,\n",
              " 0.06400429457426071,\n",
              " -0.052716150879859924,\n",
              " -0.05438302829861641,\n",
              " -0.011792625300586224,\n",
              " 0.039168793708086014,\n",
              " -0.07937689870595932,\n",
              " 0.04889144003391266,\n",
              " 0.14024443924427032,\n",
              " 0.001982169458642602,\n",
              " -0.017210165038704872,\n",
              " -0.024560745805501938,\n",
              " -0.10504705458879471,\n",
              " 0.0228698942810297,\n",
              " -0.056612927466630936,\n",
              " -0.04502683877944946,\n",
              " 0.01806771196424961,\n",
              " -0.0024321959353983402,\n",
              " -0.015465734526515007,\n",
              " -0.04994712397456169,\n",
              " -0.04799986258149147,\n",
              " 0.0023849254939705133,\n",
              " 0.04130828008055687,\n",
              " -0.017414338886737823,\n",
              " -0.04688103497028351,\n",
              " -0.03249587491154671,\n",
              " 0.018365733325481415,\n",
              " -0.039928536862134933,\n",
              " -0.026192763820290565,\n",
              " 0.03070943057537079,\n",
              " 0.007374361157417297,\n",
              " -0.08487621694803238,\n",
              " 0.11952191591262817,\n",
              " 0.028178755193948746,\n",
              " 0.00921985786408186,\n",
              " -0.04240116477012634,\n",
              " 0.12128675729036331,\n",
              " 0.023232940584421158,\n",
              " -0.08714966475963593,\n",
              " 0.017338335514068604,\n",
              " -0.044357266277074814,\n",
              " -0.020396027714014053,\n",
              " 0.03942220285534859,\n",
              " 0.05405592545866966,\n",
              " 0.001446632668375969,\n",
              " 0.0430995337665081,\n",
              " 0.11847425252199173,\n",
              " 0.05575432628393173,\n",
              " -0.06486763060092926,\n",
              " -0.08850274980068207,\n",
              " -0.01541947666555643,\n",
              " -0.035676222294569016,\n",
              " 0.020693229511380196,\n",
              " -0.0463850237429142,\n",
              " 0.018246449530124664,\n",
              " -0.08180103451013565,\n",
              " -0.07416190207004547,\n",
              " -0.04578566178679466,\n",
              " -0.02101576328277588,\n",
              " -0.014340845867991447,\n",
              " -0.007629936560988426,\n",
              " 0.0660596489906311,\n",
              " 0.0679875910282135,\n",
              " 0.04797482118010521,\n",
              " -0.05394035577774048,\n",
              " -0.04510561376810074,\n",
              " -0.020042458549141884,\n",
              " -0.00983588956296444,\n",
              " -0.05241173505783081,\n",
              " -0.11461087316274643,\n",
              " 0.10700250416994095,\n",
              " -4.605999758912449e-33,\n",
              " 0.010912097059190273,\n",
              " -0.008159802295267582,\n",
              " -0.023430360481142998,\n",
              " 0.06411702930927277,\n",
              " 0.030643314123153687,\n",
              " 0.03996116667985916,\n",
              " -0.03203858062624931,\n",
              " 0.0028087447863072157,\n",
              " -0.13079462945461273,\n",
              " -0.011170480400323868,\n",
              " 0.014943941496312618,\n",
              " -0.047945503145456314,\n",
              " 0.0407368503510952,\n",
              " 0.06031177192926407,\n",
              " -0.11074958741664886,\n",
              " 0.021808743476867676,\n",
              " -0.05292800813913345,\n",
              " 0.03978835418820381,\n",
              " 0.029829518869519234,\n",
              " 0.005284198559820652,\n",
              " -0.052252527326345444,\n",
              " 0.052561745047569275,\n",
              " 0.012515653856098652,\n",
              " -0.0810873806476593,\n",
              " 0.04315103963017464,\n",
              " -0.010417887941002846,\n",
              " 0.03488513082265854,\n",
              " -0.019197408109903336,\n",
              " -0.07458563894033432,\n",
              " 0.016497991979122162,\n",
              " -0.01037515141069889,\n",
              " 0.009864532388746738,\n",
              " 0.0007475907332263887,\n",
              " -0.06988678872585297,\n",
              " -0.021714769303798676,\n",
              " 0.06829739362001419,\n",
              " -0.01018454972654581,\n",
              " -0.024393079802393913,\n",
              " 0.008661690168082714,\n",
              " -0.01320553570985794,\n",
              " -0.08306995034217834,\n",
              " -0.0013529050629585981,\n",
              " 0.06836654245853424,\n",
              " -0.05491802841424942,\n",
              " 0.05002475157380104,\n",
              " 0.0684463158249855,\n",
              " -0.06933540850877762,\n",
              " 0.03252916783094406,\n",
              " 0.053881242871284485,\n",
              " -0.0059680151753127575,\n",
              " -0.04270501062273979,\n",
              " 0.0630291998386383,\n",
              " 0.007021620869636536,\n",
              " -0.05249061435461044,\n",
              " 0.06808281689882278,\n",
              " -0.01659999042749405,\n",
              " -0.009863574989140034,\n",
              " 0.08281275629997253,\n",
              " -0.006259597837924957,\n",
              " -0.02262258157134056,\n",
              " 0.011836187914013863,\n",
              " 0.011735502630472183,\n",
              " -0.08774467557668686,\n",
              " 0.015839552506804466,\n",
              " -0.0019935937598347664,\n",
              " -0.0010386623907834291,\n",
              " -0.05333278700709343,\n",
              " 0.01101273950189352,\n",
              " 0.09641358256340027,\n",
              " -0.021771468222141266,\n",
              " -0.11138252168893814,\n",
              " -0.003331843065097928,\n",
              " 0.0027283448725938797,\n",
              " -0.07571602612733841,\n",
              " -0.05782850831747055,\n",
              " -0.011331816203892231,\n",
              " 0.005604672245681286,\n",
              " -0.03518356382846832,\n",
              " 0.022686408832669258,\n",
              " -0.0033140024170279503,\n",
              " -0.13058412075042725,\n",
              " -0.022346802055835724,\n",
              " 0.01378853153437376,\n",
              " 0.04236462339758873,\n",
              " 0.005396347958594561,\n",
              " 0.06156555563211441,\n",
              " 0.08199533075094223,\n",
              " -0.04998192563652992,\n",
              " 0.0054879081435501575,\n",
              " 0.05083756893873215,\n",
              " -0.005526741035282612,\n",
              " 0.03599327802658081,\n",
              " -0.012910564430058002,\n",
              " -0.09431831538677216,\n",
              " 0.06135067343711853,\n",
              " 1.5727515646567257e-33,\n",
              " -0.052385520190000534,\n",
              " -0.07244259864091873,\n",
              " -0.08025453984737396,\n",
              " 0.06503258645534515,\n",
              " 0.011398985981941223,\n",
              " 0.08345309644937515,\n",
              " 0.0067423805594444275,\n",
              " 0.0046801380813121796,\n",
              " 0.06311541795730591,\n",
              " 0.11616840958595276,\n",
              " 0.02238624542951584,\n",
              " 0.0221613347530365,\n",
              " -0.04532041773200035,\n",
              " 0.004090051632374525,\n",
              " 0.04049825295805931,\n",
              " 0.006574377417564392,\n",
              " 0.031041085720062256,\n",
              " -0.009645698592066765,\n",
              " -0.002875475212931633,\n",
              " 0.07760997116565704,\n",
              " -0.04503081738948822,\n",
              " -0.028585858643054962,\n",
              " 0.0014083865098655224,\n",
              " 0.08480106294155121,\n",
              " 0.009169545024633408,\n",
              " -0.00668116332963109,\n",
              " 0.049191467463970184,\n",
              " -0.03178673982620239,\n",
              " -0.06021599844098091,\n",
              " 0.009775453247129917,\n",
              " -0.006100733298808336,\n",
              " -0.031128065660595894,\n",
              " -0.07832501828670502,\n",
              " 0.02234463393688202,\n",
              " -0.015928789973258972,\n",
              " -0.02233540080487728,\n",
              " 0.03797997534275055,\n",
              " 0.036411385983228683,\n",
              " 0.03465237095952034,\n",
              " 0.10739292949438095,\n",
              " 0.01688881404697895,\n",
              " 0.03677629679441452,\n",
              " 0.029057206586003304,\n",
              " -0.04792770370841026,\n",
              " -0.03820612654089928,\n",
              " -0.03451316058635712,\n",
              " -0.015484731644392014,\n",
              " 0.011030538007616997,\n",
              " -0.04124528169631958,\n",
              " 0.042522307485342026,\n",
              " -0.07017387449741364,\n",
              " 0.02822248823940754,\n",
              " -0.008688123896718025,\n",
              " -0.06170905753970146,\n",
              " -0.062249235808849335,\n",
              " -0.00648657139390707,\n",
              " -0.017432428896427155,\n",
              " -0.003630873281508684,\n",
              " -0.02425208128988743,\n",
              " 0.02260432206094265,\n",
              " 0.02303018420934677,\n",
              " 0.0962354987859726,\n",
              " -0.06878778338432312,\n",
              " 0.09028510749340057,\n",
              " 0.08175958693027496,\n",
              " -0.06528511643409729,\n",
              " -0.006392234470695257,\n",
              " 0.009093157947063446,\n",
              " -0.04237696900963783,\n",
              " 0.0369020476937294,\n",
              " 0.04457421600818634,\n",
              " -0.028809458017349243,\n",
              " -0.0803377628326416,\n",
              " -0.06961647421121597,\n",
              " 0.028353888541460037,\n",
              " 0.0019786269403994083,\n",
              " 0.019742581993341446,\n",
              " -0.08272333443164825,\n",
              " -0.06459251046180725,\n",
              " -0.06379804760217667,\n",
              " 0.09918593615293503,\n",
              " 0.009216432459652424,\n",
              " -0.07668744027614594,\n",
              " 0.03406934067606926,\n",
              " 0.0326128713786602,\n",
              " -0.03211045265197754,\n",
              " 0.0468304343521595,\n",
              " -0.00042148082866333425,\n",
              " -0.013649508357048035,\n",
              " 0.03277713805437088,\n",
              " -0.08015552163124084,\n",
              " 0.038633525371551514,\n",
              " -0.017396844923496246,\n",
              " 0.001106373849324882,\n",
              " -0.06798557937145233,\n",
              " -1.733527632552523e-08,\n",
              " -0.020742695778608322,\n",
              " -0.04954710975289345,\n",
              " 0.04962094873189926,\n",
              " -0.052962180227041245,\n",
              " 0.02600627765059471,\n",
              " 0.053586650639772415,\n",
              " 0.06877706199884415,\n",
              " -0.044873591512441635,\n",
              " -0.06627978384494781,\n",
              " -0.010005972348153591,\n",
              " 0.06046570464968681,\n",
              " 0.07463868707418442,\n",
              " -0.05233192816376686,\n",
              " 0.009885440580546856,\n",
              " 0.05328601226210594,\n",
              " -0.033599790185689926,\n",
              " -0.037261106073856354,\n",
              " -0.07287655770778656,\n",
              " -0.07155927270650864,\n",
              " 0.00915276538580656,\n",
              " 0.021342551335692406,\n",
              " 0.022443052381277084,\n",
              " 0.025454379618167877,\n",
              " -0.09504371136426926,\n",
              " -0.0190911665558815,\n",
              " 0.05350574851036072,\n",
              " 0.0074118743650615215,\n",
              " 0.08284235000610352,\n",
              " 0.0044865794479846954,\n",
              " -0.0463097020983696,\n",
              " 0.007982267998158932,\n",
              " 0.06535691767930984,\n",
              " 0.019652850925922394,\n",
              " -0.011461888439953327,\n",
              " 0.09029638022184372,\n",
              " -0.0006000041612423956,\n",
              " 0.056003302335739136,\n",
              " 0.0688496083021164,\n",
              " 0.02922661229968071,\n",
              " -0.0035918753128498793,\n",
              " -0.001158220344223082,\n",
              " -0.008404827676713467,\n",
              " -0.020645949989557266,\n",
              " 0.050236817449331284,\n",
              " 0.062294911593198776,\n",
              " 0.04717639088630676,\n",
              " -0.0017237173160538077,\n",
              " -0.04075971245765686,\n",
              " -0.02962861768901348,\n",
              " -0.0627538189291954,\n",
              " -0.0329035185277462,\n",
              " -0.04152267053723335,\n",
              " 0.10050888359546661,\n",
              " 0.009493684396147728,\n",
              " -0.05957047641277313,\n",
              " 0.03570495918393135,\n",
              " 0.08731822669506073,\n",
              " 0.021626342087984085,\n",
              " -0.013378429226577282,\n",
              " -0.003095240332186222,\n",
              " 0.07020969688892365,\n",
              " 0.07751023769378662,\n",
              " 0.0557980090379715,\n",
              " -0.01912659965455532]"
            ]
          },
          "metadata": {},
          "execution_count": 21
        }
      ]
    },
    {
      "cell_type": "markdown",
      "source": [
        "# Building Vector Index"
      ],
      "metadata": {
        "id": "lEIN840ukfmU"
      }
    },
    {
      "cell_type": "code",
      "source": [
        "!pip install pinecone-client"
      ],
      "metadata": {
        "id": "XDXQ9BRMkvBv",
        "outputId": "5b82bca5-5cb6-41d1-f82d-265132ec9eaa",
        "colab": {
          "base_uri": "https://localhost:8080/"
        }
      },
      "execution_count": 22,
      "outputs": [
        {
          "output_type": "stream",
          "name": "stdout",
          "text": [
            "Requirement already satisfied: pinecone-client in /usr/local/lib/python3.10/dist-packages (5.0.0)\n",
            "Requirement already satisfied: certifi>=2019.11.17 in /usr/local/lib/python3.10/dist-packages (from pinecone-client) (2024.7.4)\n",
            "Requirement already satisfied: pinecone-plugin-inference==1.0.2 in /usr/local/lib/python3.10/dist-packages (from pinecone-client) (1.0.2)\n",
            "Requirement already satisfied: pinecone-plugin-interface<0.0.8,>=0.0.7 in /usr/local/lib/python3.10/dist-packages (from pinecone-client) (0.0.7)\n",
            "Requirement already satisfied: tqdm>=4.64.1 in /usr/local/lib/python3.10/dist-packages (from pinecone-client) (4.66.4)\n",
            "Requirement already satisfied: typing-extensions>=3.7.4 in /usr/local/lib/python3.10/dist-packages (from pinecone-client) (4.12.2)\n",
            "Requirement already satisfied: urllib3>=1.26.0 in /usr/local/lib/python3.10/dist-packages (from pinecone-client) (2.0.7)\n"
          ]
        }
      ]
    },
    {
      "cell_type": "code",
      "source": [
        "import os\n",
        "# Set your API key\n",
        "os.environ['API_KEY'] = \"5e30468d-22f7-4b74-a9b2-0e1aa67fd7d5\""
      ],
      "metadata": {
        "id": "i4sB40FsrhIj"
      },
      "execution_count": 23,
      "outputs": []
    },
    {
      "cell_type": "code",
      "source": [
        "# Access your API key\n",
        "api_key = os.getenv('API_KEY')\n",
        "print(api_key)"
      ],
      "metadata": {
        "id": "utEEIGDWro_U",
        "outputId": "d24fe7ee-2fc2-4fb2-8d04-9183980e3038",
        "colab": {
          "base_uri": "https://localhost:8080/"
        }
      },
      "execution_count": 24,
      "outputs": [
        {
          "output_type": "stream",
          "name": "stdout",
          "text": [
            "5e30468d-22f7-4b74-a9b2-0e1aa67fd7d5\n"
          ]
        }
      ]
    },
    {
      "cell_type": "code",
      "source": [
        "import pinecone\n",
        "from pinecone import Pinecone, ServerlessSpec\n",
        "pc = Pinecone(api_key=api_key)"
      ],
      "metadata": {
        "id": "_j6UbDkJkS5B"
      },
      "execution_count": 25,
      "outputs": []
    },
    {
      "cell_type": "code",
      "source": [
        "import time"
      ],
      "metadata": {
        "id": "_Hd5RXhSke9Q"
      },
      "execution_count": 26,
      "outputs": []
    },
    {
      "cell_type": "code",
      "source": [
        "index_name= 'llama-2-rag'\n",
        "\n",
        "if index_name not in pc.list_indexes().names():\n",
        "    pc.create_index(\n",
        "        name=index_name,\n",
        "        dimension=len(embeddings[0]), #dimension should match with the embedding model\n",
        "        metric=\"cosine\",\n",
        "        spec=ServerlessSpec(cloud=\"aws\", region=\"us-east-1\")\n",
        "        )"
      ],
      "metadata": {
        "id": "wUptG9HUpR-W"
      },
      "execution_count": 27,
      "outputs": []
    },
    {
      "cell_type": "code",
      "source": [
        "#  Now we connect to the Index"
      ],
      "metadata": {
        "id": "wXW5gowrv3W7"
      },
      "execution_count": 28,
      "outputs": []
    },
    {
      "cell_type": "code",
      "source": [
        "index = pc.Index(index_name)\n",
        "print(index.describe_index_stats())"
      ],
      "metadata": {
        "id": "eoxbJ-HAv7yq",
        "outputId": "3949dc2b-4e63-4e5a-9e31-ceb526f6787a",
        "colab": {
          "base_uri": "https://localhost:8080/"
        }
      },
      "execution_count": 29,
      "outputs": [
        {
          "output_type": "stream",
          "name": "stdout",
          "text": [
            "{'dimension': 384,\n",
            " 'index_fullness': 0.0,\n",
            " 'namespaces': {},\n",
            " 'total_vector_count': 0}\n"
          ]
        }
      ]
    },
    {
      "cell_type": "code",
      "source": [
        "!pip install datasets"
      ],
      "metadata": {
        "id": "HgmpnOopv707",
        "outputId": "7e156910-6f1b-4529-9b5d-a1ff86928219",
        "colab": {
          "base_uri": "https://localhost:8080/"
        }
      },
      "execution_count": 30,
      "outputs": [
        {
          "output_type": "stream",
          "name": "stdout",
          "text": [
            "Requirement already satisfied: datasets in /usr/local/lib/python3.10/dist-packages (2.20.0)\n",
            "Requirement already satisfied: filelock in /usr/local/lib/python3.10/dist-packages (from datasets) (3.15.4)\n",
            "Requirement already satisfied: numpy>=1.17 in /usr/local/lib/python3.10/dist-packages (from datasets) (1.25.2)\n",
            "Requirement already satisfied: pyarrow>=15.0.0 in /usr/local/lib/python3.10/dist-packages (from datasets) (17.0.0)\n",
            "Requirement already satisfied: pyarrow-hotfix in /usr/local/lib/python3.10/dist-packages (from datasets) (0.6)\n",
            "Requirement already satisfied: dill<0.3.9,>=0.3.0 in /usr/local/lib/python3.10/dist-packages (from datasets) (0.3.8)\n",
            "Requirement already satisfied: pandas in /usr/local/lib/python3.10/dist-packages (from datasets) (2.0.3)\n",
            "Requirement already satisfied: requests>=2.32.2 in /usr/local/lib/python3.10/dist-packages (from datasets) (2.32.3)\n",
            "Requirement already satisfied: tqdm>=4.66.3 in /usr/local/lib/python3.10/dist-packages (from datasets) (4.66.4)\n",
            "Requirement already satisfied: xxhash in /usr/local/lib/python3.10/dist-packages (from datasets) (3.4.1)\n",
            "Requirement already satisfied: multiprocess in /usr/local/lib/python3.10/dist-packages (from datasets) (0.70.16)\n",
            "Requirement already satisfied: fsspec<=2024.5.0,>=2023.1.0 in /usr/local/lib/python3.10/dist-packages (from fsspec[http]<=2024.5.0,>=2023.1.0->datasets) (2023.6.0)\n",
            "Requirement already satisfied: aiohttp in /usr/local/lib/python3.10/dist-packages (from datasets) (3.9.5)\n",
            "Requirement already satisfied: huggingface-hub>=0.21.2 in /usr/local/lib/python3.10/dist-packages (from datasets) (0.23.5)\n",
            "Requirement already satisfied: packaging in /usr/local/lib/python3.10/dist-packages (from datasets) (24.1)\n",
            "Requirement already satisfied: pyyaml>=5.1 in /usr/local/lib/python3.10/dist-packages (from datasets) (6.0.1)\n",
            "Requirement already satisfied: aiosignal>=1.1.2 in /usr/local/lib/python3.10/dist-packages (from aiohttp->datasets) (1.3.1)\n",
            "Requirement already satisfied: attrs>=17.3.0 in /usr/local/lib/python3.10/dist-packages (from aiohttp->datasets) (23.2.0)\n",
            "Requirement already satisfied: frozenlist>=1.1.1 in /usr/local/lib/python3.10/dist-packages (from aiohttp->datasets) (1.4.1)\n",
            "Requirement already satisfied: multidict<7.0,>=4.5 in /usr/local/lib/python3.10/dist-packages (from aiohttp->datasets) (6.0.5)\n",
            "Requirement already satisfied: yarl<2.0,>=1.0 in /usr/local/lib/python3.10/dist-packages (from aiohttp->datasets) (1.9.4)\n",
            "Requirement already satisfied: async-timeout<5.0,>=4.0 in /usr/local/lib/python3.10/dist-packages (from aiohttp->datasets) (4.0.3)\n",
            "Requirement already satisfied: typing-extensions>=3.7.4.3 in /usr/local/lib/python3.10/dist-packages (from huggingface-hub>=0.21.2->datasets) (4.12.2)\n",
            "Requirement already satisfied: charset-normalizer<4,>=2 in /usr/local/lib/python3.10/dist-packages (from requests>=2.32.2->datasets) (3.3.2)\n",
            "Requirement already satisfied: idna<4,>=2.5 in /usr/local/lib/python3.10/dist-packages (from requests>=2.32.2->datasets) (3.7)\n",
            "Requirement already satisfied: urllib3<3,>=1.21.1 in /usr/local/lib/python3.10/dist-packages (from requests>=2.32.2->datasets) (2.0.7)\n",
            "Requirement already satisfied: certifi>=2017.4.17 in /usr/local/lib/python3.10/dist-packages (from requests>=2.32.2->datasets) (2024.7.4)\n",
            "Requirement already satisfied: python-dateutil>=2.8.2 in /usr/local/lib/python3.10/dist-packages (from pandas->datasets) (2.8.2)\n",
            "Requirement already satisfied: pytz>=2020.1 in /usr/local/lib/python3.10/dist-packages (from pandas->datasets) (2023.4)\n",
            "Requirement already satisfied: tzdata>=2022.1 in /usr/local/lib/python3.10/dist-packages (from pandas->datasets) (2024.1)\n",
            "Requirement already satisfied: six>=1.5 in /usr/local/lib/python3.10/dist-packages (from python-dateutil>=2.8.2->pandas->datasets) (1.16.0)\n"
          ]
        }
      ]
    },
    {
      "cell_type": "code",
      "source": [
        "from datasets import load_dataset"
      ],
      "metadata": {
        "id": "JTQ2n279v74V"
      },
      "execution_count": 33,
      "outputs": []
    },
    {
      "cell_type": "code",
      "source": [
        "dataset = load_dataset(\"jamescalam/llama-2-arxiv-papers-chunked\")"
      ],
      "metadata": {
        "id": "e9D8oNKZwgDx",
        "outputId": "5e79ae2b-32ac-420a-e172-de578b9772b7",
        "colab": {
          "base_uri": "https://localhost:8080/",
          "height": 81,
          "referenced_widgets": [
            "5bf8471dba784d408b0037bc839b8b89",
            "f9ba1465ecdb4ec48f8b08e4b7741687",
            "04701d39a545481d92ebb87660579cb7",
            "1b0e98aa35e4439991dbef5a26ae76d6",
            "30de8c3f414f47e5ac5f50ab09076d71",
            "d56929c9741f4ddb9b305183e7c6c29d",
            "1c9fe44f93c948518cced2b7f20d7ccc",
            "9bf79bfdc7fc4fb992f280a7aa6deb14",
            "39f09ddac590426bbdcff29a84a3f975",
            "14faccc47e044e69b051df167ddc56f0",
            "10908aaae9894685ad4b7129e5acbb01",
            "8c0c57c9720b4caaa84076e3c5eb00aa",
            "34b2211716314bd498a439b510e6b0ff",
            "9c0b2567c4044ae480f9d31c338414a2",
            "f617f2695e4f410cbc6274306fbce0a4",
            "f2d1cac884f44108bf841d9501938749",
            "a70341cc6260450d99e965a9208f4174",
            "5a23e8e94cf74aeeade09e97a613f24b",
            "8b5f7e38072b4b28b217f739e1103925",
            "0f836a0951d642cebe18d94c158cc150",
            "77c802f1f617499ca08350e3d919d17d",
            "652601351c734682b6259c55b34c08c1"
          ]
        }
      },
      "execution_count": 35,
      "outputs": [
        {
          "output_type": "display_data",
          "data": {
            "text/plain": [
              "Downloading data:   0%|          | 0.00/14.4M [00:00<?, ?B/s]"
            ],
            "application/vnd.jupyter.widget-view+json": {
              "version_major": 2,
              "version_minor": 0,
              "model_id": "5bf8471dba784d408b0037bc839b8b89"
            }
          },
          "metadata": {}
        },
        {
          "output_type": "display_data",
          "data": {
            "text/plain": [
              "Generating train split:   0%|          | 0/4838 [00:00<?, ? examples/s]"
            ],
            "application/vnd.jupyter.widget-view+json": {
              "version_major": 2,
              "version_minor": 0,
              "model_id": "8c0c57c9720b4caaa84076e3c5eb00aa"
            }
          },
          "metadata": {}
        }
      ]
    },
    {
      "cell_type": "code",
      "source": [
        "dataset"
      ],
      "metadata": {
        "id": "O2TMTg-awgFl",
        "outputId": "886af254-e40d-4644-cb1d-d7ed5432a705",
        "colab": {
          "base_uri": "https://localhost:8080/"
        }
      },
      "execution_count": 36,
      "outputs": [
        {
          "output_type": "execute_result",
          "data": {
            "text/plain": [
              "DatasetDict({\n",
              "    train: Dataset({\n",
              "        features: ['doi', 'chunk-id', 'chunk', 'id', 'title', 'summary', 'source', 'authors', 'categories', 'comment', 'journal_ref', 'primary_category', 'published', 'updated', 'references'],\n",
              "        num_rows: 4838\n",
              "    })\n",
              "})"
            ]
          },
          "metadata": {},
          "execution_count": 36
        }
      ]
    },
    {
      "cell_type": "code",
      "source": [
        "data = dataset['train']"
      ],
      "metadata": {
        "id": "rYTNCZXuwgHS"
      },
      "execution_count": 42,
      "outputs": []
    },
    {
      "cell_type": "code",
      "source": [
        "data= data.to_pandas()"
      ],
      "metadata": {
        "id": "RKotc2xwwgJL"
      },
      "execution_count": 43,
      "outputs": []
    },
    {
      "cell_type": "code",
      "source": [
        "# data.head()"
      ],
      "metadata": {
        "id": "7QkvduGdwgMl"
      },
      "execution_count": 45,
      "outputs": []
    }
  ]
}